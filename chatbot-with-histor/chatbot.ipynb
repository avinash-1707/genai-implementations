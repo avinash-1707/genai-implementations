{
 "cells": [
  {
   "cell_type": "code",
   "execution_count": 1,
   "id": "9a55cba0",
   "metadata": {},
   "outputs": [],
   "source": [
    "import os\n",
    "from dotenv import load_dotenv\n",
    "load_dotenv()\n",
    "\n",
    "groq_api_key = os.getenv(\"GROQ_API_KEY\")"
   ]
  },
  {
   "cell_type": "code",
   "execution_count": 2,
   "id": "b3ca5220",
   "metadata": {},
   "outputs": [
    {
     "data": {
      "text/plain": [
       "ChatGroq(client=<groq.resources.chat.completions.Completions object at 0x00000276FCFA20B0>, async_client=<groq.resources.chat.completions.AsyncCompletions object at 0x00000276FD0DDAB0>, model_name='llama-3.3-70b-versatile', model_kwargs={}, groq_api_key=SecretStr('**********'))"
      ]
     },
     "execution_count": 2,
     "metadata": {},
     "output_type": "execute_result"
    }
   ],
   "source": [
    "from langchain_groq import ChatGroq\n",
    "model = ChatGroq(model=\"llama-3.3-70b-versatile\",api_key=groq_api_key)\n",
    "model"
   ]
  },
  {
   "cell_type": "code",
   "execution_count": 3,
   "id": "53a3ff91",
   "metadata": {},
   "outputs": [
    {
     "data": {
      "text/plain": [
       "AIMessage(content=\"Hello Avinash, it's nice to meet you. Congratulations on pursuing a career in software engineering. That's an exciting and in-demand field. What areas of software engineering interest you the most? Are you focusing on any specific programming languages, technologies, or industries? I'm here to help and chat about any topics related to software engineering.\", additional_kwargs={}, response_metadata={'token_usage': {'completion_tokens': 70, 'prompt_tokens': 49, 'total_tokens': 119, 'completion_time': 0.254545455, 'prompt_time': 0.007662399, 'queue_time': 0.05016323, 'total_time': 0.262207854}, 'model_name': 'llama-3.3-70b-versatile', 'system_fingerprint': 'fp_2ddfbb0da0', 'finish_reason': 'stop', 'logprobs': None}, id='run--152e22a4-6f48-42a4-8369-4567c8bd9d6a-0', usage_metadata={'input_tokens': 49, 'output_tokens': 70, 'total_tokens': 119})"
      ]
     },
     "execution_count": 3,
     "metadata": {},
     "output_type": "execute_result"
    }
   ],
   "source": [
    "from langchain_core.messages import HumanMessage,SystemMessage\n",
    "\n",
    "model.invoke(\n",
    "    [HumanMessage(content=\"Hi, I am Avinash and i am a upcoming software engineer\")]\n",
    ")"
   ]
  },
  {
   "cell_type": "code",
   "execution_count": 4,
   "id": "7557841c",
   "metadata": {},
   "outputs": [
    {
     "data": {
      "text/plain": [
       "AIMessage(content=\"Your name is Avinash, and you're an upcoming software engineer.\", additional_kwargs={}, response_metadata={'token_usage': {'completion_tokens': 16, 'prompt_tokens': 142, 'total_tokens': 158, 'completion_time': 0.058181818, 'prompt_time': 0.015647242, 'queue_time': 0.050910437999999995, 'total_time': 0.07382906}, 'model_name': 'llama-3.3-70b-versatile', 'system_fingerprint': 'fp_3f3b593e33', 'finish_reason': 'stop', 'logprobs': None}, id='run--28723145-19fc-4981-b06c-d87b957b7305-0', usage_metadata={'input_tokens': 142, 'output_tokens': 16, 'total_tokens': 158})"
      ]
     },
     "execution_count": 4,
     "metadata": {},
     "output_type": "execute_result"
    }
   ],
   "source": [
    "from langchain_core.messages import AIMessage\n",
    "model.invoke([\n",
    "    HumanMessage(content=\"Hi, I am Avinash and i am a upcoming software engineer\"),\n",
    "    AIMessage(content=\"Hello Avinash, it's nice to meet you. Congratulations on pursuing a career in software engineering. That's an exciting and in-demand field. What areas of software engineering interest you the most? Are you focusing on any specific programming languages, technologies, or industries? I'm here to help and chat about any topics related to software engineering.\"),\n",
    "    HumanMessage(\"Hey! Tell me what's my name and what do i do?\")\n",
    "])"
   ]
  },
  {
   "cell_type": "markdown",
   "id": "327c6955",
   "metadata": {},
   "source": [
    "### Message History\n",
    "We can use message history class to wrap out model and make it stateful. This will keep track of input and output of model, and store them in a datastore"
   ]
  },
  {
   "cell_type": "code",
   "execution_count": 7,
   "id": "f4e1bb56",
   "metadata": {},
   "outputs": [],
   "source": [
    "from langchain_community.chat_message_histories import ChatMessageHistory\n",
    "from langchain_core.chat_history import BaseChatMessageHistory\n",
    "from langchain_core.runnables.history import RunnableWithMessageHistory\n",
    "\n",
    "store = {}\n",
    "\n",
    "def get_session_history(session_id:str)->BaseChatMessageHistory:\n",
    "    if session_id not in store:\n",
    "        store[session_id] = ChatMessageHistory()\n",
    "\n",
    "    return store[session_id]\n",
    "\n",
    "with_message_history = RunnableWithMessageHistory(model,get_session_history)"
   ]
  },
  {
   "cell_type": "code",
   "execution_count": 9,
   "id": "a5e9e425",
   "metadata": {},
   "outputs": [],
   "source": [
    "config = { \"configurable\":{\"session_id\":\"chat1\"}}"
   ]
  },
  {
   "cell_type": "code",
   "execution_count": 11,
   "id": "7d43392e",
   "metadata": {},
   "outputs": [
    {
     "data": {
      "text/plain": [
       "\"Nice to meet you, Avinash. As a full-stack web developer, you already have a solid foundation in programming and web development. Learning generative AI can be a fascinating and rewarding experience, and it's great that you're interested in exploring this field.\\n\\nTo get started, let's break down the key concepts and technologies involved in generative AI:\\n\\n1. **Deep Learning**: Generative AI relies heavily on deep learning techniques, such as neural networks and convolutional neural networks (CNNs).\\n2. **Python Libraries**: You'll need to familiarize yourself with popular Python libraries like TensorFlow, PyTorch, or Keras, which provide tools and frameworks for building and training generative models.\\n3. **Generative Models**: Study the different types of generative models, including:\\n\\t* Generative Adversarial Networks (GANs)\\n\\t* Variational Autoencoders (VAEs)\\n\\t* Autoregressive Models\\n\\t* Transformers\\n4. **Mathematics**: Linear algebra, calculus, and probability theory are essential math concepts for understanding generative AI.\\n5. **Data**: You'll need access to large datasets to train and fine-tune your generative models.\\n\\nAs a full-stack web developer, you can leverage your existing skills in:\\n\\n1. **Programming**: Your proficiency in programming languages like JavaScript, Python, or Ruby will help you learn and implement generative AI concepts.\\n2. **Data Structures**: Your understanding of data structures like arrays, lists, and dictionaries will be useful when working with datasets and models.\\n3. **Problem-Solving**: Your experience in solving complex problems will help you debug and optimize your generative models.\\n\\nTo begin your journey in generative AI, I recommend:\\n\\n1. **Start with the basics**: Learn the fundamentals of deep learning, Python libraries, and generative models.\\n2. **Explore online resources**: Utilize online courses, tutorials, and blogs to learn from experts in the field.\\n3. **Join online communities**: Participate in forums, Reddit, and social media groups to connect with other developers and researchers in generative AI.\\n4. **Work on projects**: Apply your knowledge by building small projects, such as generating images or text, to gain hands-on experience.\\n\\nWhat specific area of generative AI interests you the most, Avinash? Do you have any experience with Python or deep learning?\""
      ]
     },
     "execution_count": 11,
     "metadata": {},
     "output_type": "execute_result"
    }
   ],
   "source": [
    "response = with_message_history.invoke([\n",
    "    HumanMessage(content=\"Hi my name is Avinash and i am a full stack web developer trying to learn generative AI\")\n",
    "], config = config)\n",
    "\n",
    "response.content"
   ]
  },
  {
   "cell_type": "code",
   "execution_count": 17,
   "id": "dda3fa9d",
   "metadata": {},
   "outputs": [
    {
     "data": {
      "text/plain": [
       "'Your name is Avinash.'"
      ]
     },
     "execution_count": 17,
     "metadata": {},
     "output_type": "execute_result"
    }
   ],
   "source": [
    "response = with_message_history.invoke([\n",
    "    HumanMessage(\"What is my name?\"),\n",
    "    \n",
    "],config=config)\n",
    "\n",
    "response.content"
   ]
  },
  {
   "cell_type": "code",
   "execution_count": 18,
   "id": "bd9c80d3",
   "metadata": {},
   "outputs": [
    {
     "data": {
      "text/plain": [
       "\"I don't know your name. I'm a large language model, I don't have the ability to access personal information about you, including your name. I can only respond based on the text you provide to me. If you'd like to share your name, I'd be happy to chat with you and use it in our conversation.\""
      ]
     },
     "execution_count": 18,
     "metadata": {},
     "output_type": "execute_result"
    }
   ],
   "source": [
    "# Let's change the config --> change in session_id\n",
    "config1 = { \"configurable\":{\"session_id\":\"chat2\"}}\n",
    "\n",
    "response = with_message_history.invoke([\n",
    "    HumanMessage(\"What is my name?\"),\n",
    "    \n",
    "],config=config1)\n",
    "\n",
    "response.content"
   ]
  },
  {
   "cell_type": "code",
   "execution_count": 20,
   "id": "ddc47cdd",
   "metadata": {},
   "outputs": [],
   "source": [
    "# Prompt templates\n",
    "from langchain_core.prompts import ChatPromptTemplate,MessagesPlaceholder\n",
    "\n",
    "prompt = ChatPromptTemplate.from_messages(\n",
    "    [\n",
    "        (\"system\",\"You are a helpful AI assistant whose main task is to explain the asked topic in simple words\"),\n",
    "        MessagesPlaceholder(variable_name=\"messages\")\n",
    "    ]\n",
    ")\n",
    "\n",
    "chain = prompt | model "
   ]
  },
  {
   "cell_type": "code",
   "execution_count": 22,
   "id": "ed663a55",
   "metadata": {},
   "outputs": [
    {
     "data": {
      "text/plain": [
       "AIMessage(content=\"**What is Database Indexing?**\\n\\nImagine you have a huge phonebook with millions of names and phone numbers. If you want to find a specific person's phone number, you would have to look through the entire book, which would take a long time.\\n\\nDatabase indexing is like creating a special table of contents for your phonebook. It helps the database find specific data quickly, without having to look through the entire database.\\n\\n**How Does Indexing Work?**\\n\\nWhen you create an index on a column in your database table, the database creates a separate data structure that contains the values from that column, along with a pointer to the location of the corresponding data in the table.\\n\\nThink of it like a map that shows the database where to find specific data. When you query the database, it can use the index to quickly locate the data, rather than having to scan the entire table.\\n\\n**Benefits of Indexing**\\n\\n1. **Faster Query Performance**: Indexing can significantly speed up query performance, especially for large databases.\\n2. **Improved Data Retrieval**: Indexing helps the database retrieve data quickly, even when the data is scattered throughout the table.\\n3. **Reduced Disk I/O**: By using an index, the database can reduce the number of disk reads, which can improve overall system performance.\\n\\n**Types of Indexes**\\n\\n1. **B-Tree Index**: A self-balancing search tree that keeps data sorted and allows for efficient insertion, deletion, and searching.\\n2. **Hash Index**: A data structure that uses a hash function to map keys to specific locations in the index.\\n3. **Full-Text Index**: A specialized index designed for searching large amounts of text data.\\n\\n**When to Use Indexing**\\n\\n1. **Frequently Queried Columns**: Index columns that are frequently used in WHERE, JOIN, and ORDER BY clauses.\\n2. **Large Tables**: Indexing can be particularly beneficial for large tables with millions of rows.\\n3. **High-Performance Requirements**: Indexing can help meet high-performance requirements, such as in real-time analytics or transactional systems.\\n\\nIn summary, database indexing is a powerful technique for improving query performance and data retrieval efficiency. By creating a special data structure that maps column values to data locations, indexing helps the database quickly locate and retrieve data, making it an essential tool for any database administrator or developer.\", additional_kwargs={}, response_metadata={'token_usage': {'completion_tokens': 479, 'prompt_tokens': 58, 'total_tokens': 537, 'completion_time': 1.741818182, 'prompt_time': 0.002919692, 'queue_time': 0.051298588, 'total_time': 1.7447378740000001}, 'model_name': 'llama-3.3-70b-versatile', 'system_fingerprint': 'fp_e8c9074fa2', 'finish_reason': 'stop', 'logprobs': None}, id='run--58280df9-5e54-47e9-a4f8-08209b080791-0', usage_metadata={'input_tokens': 58, 'output_tokens': 479, 'total_tokens': 537})"
      ]
     },
     "execution_count": 22,
     "metadata": {},
     "output_type": "execute_result"
    }
   ],
   "source": [
    "chain.invoke({\"messages\":[HumanMessage(\"Tell me about database indexing\")]})"
   ]
  },
  {
   "cell_type": "code",
   "execution_count": 23,
   "id": "980f0363",
   "metadata": {},
   "outputs": [],
   "source": [
    "with_message_history = RunnableWithMessageHistory(chain,get_session_history)"
   ]
  },
  {
   "cell_type": "code",
   "execution_count": 24,
   "id": "e331f4ea",
   "metadata": {},
   "outputs": [],
   "source": [
    "config3 = { \"configurable\":{\"session_id\":\"chat3\"}}"
   ]
  },
  {
   "cell_type": "code",
   "execution_count": 25,
   "id": "525caf76",
   "metadata": {},
   "outputs": [
    {
     "data": {
      "text/plain": [
       "AIMessage(content=\"Hello Avinash, it's nice to meet you. Is there something you'd like to know or learn about? I'm here to help and explain things in simple words. What's on your mind?\", additional_kwargs={}, response_metadata={'token_usage': {'completion_tokens': 43, 'prompt_tokens': 60, 'total_tokens': 103, 'completion_time': 0.156363636, 'prompt_time': 0.004279283, 'queue_time': 0.051342327, 'total_time': 0.160642919}, 'model_name': 'llama-3.3-70b-versatile', 'system_fingerprint': 'fp_2ddfbb0da0', 'finish_reason': 'stop', 'logprobs': None}, id='run--2da5d534-9f7e-40f7-a85d-4229e24dd52a-0', usage_metadata={'input_tokens': 60, 'output_tokens': 43, 'total_tokens': 103})"
      ]
     },
     "execution_count": 25,
     "metadata": {},
     "output_type": "execute_result"
    }
   ],
   "source": [
    "with_message_history.invoke(\n",
    "    [\n",
    "        HumanMessage(\"Hi my name is avinash\")\n",
    "    ],\n",
    "    config=config3\n",
    ")"
   ]
  },
  {
   "cell_type": "code",
   "execution_count": 26,
   "id": "87626a79",
   "metadata": {},
   "outputs": [],
   "source": [
    "# Adding more complexity to prompt\n",
    "\n",
    "prompt = ChatPromptTemplate.from_messages(\n",
    "    [\n",
    "        (\"system\",\"You are a helpful AI assistant whose main task is to explain the asked topic in simple words. Explain the topics in {language}\"),\n",
    "        MessagesPlaceholder(variable_name=\"messages\")\n",
    "    ]\n",
    ")\n",
    "\n",
    "chain = prompt | model "
   ]
  },
  {
   "cell_type": "code",
   "execution_count": 27,
   "id": "23c9b93d",
   "metadata": {},
   "outputs": [],
   "source": [
    "res =  chain.invoke({\n",
    "    \"messages\":[HumanMessage(\"Hi my name is avinash\")],\n",
    "    \"language\":\"hindi\"\n",
    "})"
   ]
  },
  {
   "cell_type": "code",
   "execution_count": 28,
   "id": "97ce946c",
   "metadata": {},
   "outputs": [
    {
     "data": {
      "text/plain": [
       "'नमस्ते अविनाश, मैं आपका सहायक हूँ। मैं आपके प्रश्नों का उत्तर देने और आपकी जानकारी बढ़ाने में मदद करने के लिए तैयार हूँ। आज हम किस विषय पर चर्चा करना चाहते हैं?'"
      ]
     },
     "execution_count": 28,
     "metadata": {},
     "output_type": "execute_result"
    }
   ],
   "source": [
    "res.content"
   ]
  },
  {
   "cell_type": "code",
   "execution_count": 29,
   "id": "9fa3f5c5",
   "metadata": {},
   "outputs": [],
   "source": [
    "with_message_history = RunnableWithMessageHistory(chain,get_session_history,input_messages_key=\"messages\")"
   ]
  },
  {
   "cell_type": "code",
   "execution_count": 34,
   "id": "6fa536f1",
   "metadata": {},
   "outputs": [],
   "source": [
    "config4 = {\"configurable\":{\"session_id\":\"chat4\"}}\n",
    "\n",
    "ans = with_message_history.invoke(\n",
    "    {\"messages\":[\n",
    "        HumanMessage(\"Hey I am avinash and i am a aspiring software developer\"),\n",
    "    ],\n",
    "    \"language\":\"hindi\"},\n",
    "    config=config4\n",
    ")"
   ]
  },
  {
   "cell_type": "code",
   "execution_count": 35,
   "id": "39879ad5",
   "metadata": {},
   "outputs": [
    {
     "data": {
      "text/plain": [
       "AIMessage(content='नमस्ते अविनाश, मैं आपका सहायक हूँ। मैं आपको सॉफ्टवेयर विकास से संबंधित विषयों के बारे में सरल शब्दों में समझाने में मदद करूँगा।\\n\\nआप एक सॉफ्टवेयर डेवलपर बनने की आकांक्षा रखते हैं, यह बहुत अच्छा है! सॉफ्टवेयर विकास एक रोमांचक और तेजी से बढ़ता हुआ क्षेत्र है, जहाँ आप अपने विचारों और रचनात्मकता को वास्तविकता में बदल सकते हैं।\\n\\nक्या आप सॉफ्टवेयर विकास के किसी विशेष क्षेत्र में रुचि रखते हैं, जैसे कि वेब डेवलपमेंट, मोबाइल ऐप डेवलपमेंट, या कोई अन्य? या आप सीखना चाहते हैं कि सॉफ्टवेयर विकास की दुनिया में शुरुआत कैसे करें? मैं आपकी मदद के लिए तैयार हूँ!', additional_kwargs={}, response_metadata={'token_usage': {'completion_tokens': 277, 'prompt_tokens': 72, 'total_tokens': 349, 'completion_time': 1.007272727, 'prompt_time': 0.003667804, 'queue_time': 0.050787677, 'total_time': 1.010940531}, 'model_name': 'llama-3.3-70b-versatile', 'system_fingerprint': 'fp_3f3b593e33', 'finish_reason': 'stop', 'logprobs': None}, id='run--e659283a-c5bd-47c3-be5e-76949b37b1c8-0', usage_metadata={'input_tokens': 72, 'output_tokens': 277, 'total_tokens': 349})"
      ]
     },
     "execution_count": 35,
     "metadata": {},
     "output_type": "execute_result"
    }
   ],
   "source": [
    "ans"
   ]
  },
  {
   "cell_type": "code",
   "execution_count": 42,
   "id": "79af3028",
   "metadata": {},
   "outputs": [],
   "source": [
    "ans = with_message_history.invoke(\n",
    "    {\"messages\":[\n",
    "        HumanMessage(\"What do you know about me?\"),\n",
    "    ],\n",
    "    \"language\":\"english\"},\n",
    "    config=config4\n",
    ")"
   ]
  },
  {
   "cell_type": "code",
   "execution_count": 43,
   "id": "3d075df6",
   "metadata": {},
   "outputs": [
    {
     "data": {
      "text/plain": [
       "\"I know the following about you:\\n\\n* Your name is Avinash\\n* You are an aspiring software developer\\n* You initiated a conversation with me to discuss topics related to software development\\n\\nThat's all I know about you so far. If you'd like to share more about yourself, such as your interests, goals, or experiences, I'm here to listen and help if needed. What would you like to share about yourself?\""
      ]
     },
     "execution_count": 43,
     "metadata": {},
     "output_type": "execute_result"
    }
   ],
   "source": [
    "ans.content"
   ]
  },
  {
   "cell_type": "markdown",
   "id": "2e080bad",
   "metadata": {},
   "source": [
    "### Managing the conversation history\n",
    "The list of messages can grow unbounded and can potentially overflow the llm context window, thats why it is needed to be managed.\n",
    "An extra step is needed that limits the size of message we are passing in"
   ]
  },
  {
   "cell_type": "code",
   "execution_count": 44,
   "id": "ac6e12d1",
   "metadata": {},
   "outputs": [],
   "source": [
    "from langchain_core.messages import SystemMessage,trim_messages\n",
    "\n",
    "trimmer = trim_messages(\n",
    "    max_tokens=70,\n",
    "    strategy = \"last\",\n",
    "    token_counter=model,\n",
    "    include_system = True,\n",
    "    allow_partial = False,\n",
    "    start_on=\"human\"\n",
    ")"
   ]
  },
  {
   "cell_type": "code",
   "execution_count": null,
   "id": "a214be43",
   "metadata": {},
   "outputs": [],
   "source": []
  }
 ],
 "metadata": {
  "kernelspec": {
   "display_name": "Python 3",
   "language": "python",
   "name": "python3"
  },
  "language_info": {
   "codemirror_mode": {
    "name": "ipython",
    "version": 3
   },
   "file_extension": ".py",
   "mimetype": "text/x-python",
   "name": "python",
   "nbconvert_exporter": "python",
   "pygments_lexer": "ipython3",
   "version": "3.10.0"
  }
 },
 "nbformat": 4,
 "nbformat_minor": 5
}
