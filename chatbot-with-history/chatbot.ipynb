{
 "cells": [
  {
   "cell_type": "code",
   "execution_count": 2,
   "id": "9a55cba0",
   "metadata": {},
   "outputs": [],
   "source": [
    "import os\n",
    "from dotenv import load_dotenv\n",
    "load_dotenv()\n",
    "\n",
    "groq_api_key = os.getenv(\"GROQ_API_KEY\")"
   ]
  },
  {
   "cell_type": "code",
   "execution_count": 3,
   "id": "b3ca5220",
   "metadata": {},
   "outputs": [
    {
     "data": {
      "text/plain": [
       "ChatGroq(client=<groq.resources.chat.completions.Completions object at 0x000001AD1E7AE8F0>, async_client=<groq.resources.chat.completions.AsyncCompletions object at 0x000001AD1E7E0DC0>, model_name='llama-3.3-70b-versatile', model_kwargs={}, groq_api_key=SecretStr('**********'))"
      ]
     },
     "execution_count": 3,
     "metadata": {},
     "output_type": "execute_result"
    }
   ],
   "source": [
    "from langchain_groq import ChatGroq\n",
    "model = ChatGroq(model=\"llama-3.3-70b-versatile\",api_key=groq_api_key)\n",
    "model"
   ]
  },
  {
   "cell_type": "code",
   "execution_count": 4,
   "id": "53a3ff91",
   "metadata": {},
   "outputs": [
    {
     "data": {
      "text/plain": [
       "AIMessage(content=\"Hi Avinash, it's great to meet you. Congratulations on pursuing a career in software engineering. That's an exciting and in-demand field. What areas of software engineering interest you the most? Are you specializing in any particular domain, such as web development, mobile app development, artificial intelligence, or something else?\", additional_kwargs={}, response_metadata={'token_usage': {'completion_tokens': 65, 'prompt_tokens': 49, 'total_tokens': 114, 'completion_time': 0.236363636, 'prompt_time': 0.002456039, 'queue_time': 0.049982261, 'total_time': 0.238819675}, 'model_name': 'llama-3.3-70b-versatile', 'system_fingerprint': 'fp_2ddfbb0da0', 'finish_reason': 'stop', 'logprobs': None}, id='run--7f3bd869-b506-44ff-9e2b-706cf98fa1ea-0', usage_metadata={'input_tokens': 49, 'output_tokens': 65, 'total_tokens': 114})"
      ]
     },
     "execution_count": 4,
     "metadata": {},
     "output_type": "execute_result"
    }
   ],
   "source": [
    "from langchain_core.messages import HumanMessage,SystemMessage\n",
    "\n",
    "model.invoke(\n",
    "    [HumanMessage(content=\"Hi, I am Avinash and i am a upcoming software engineer\")]\n",
    ")"
   ]
  },
  {
   "cell_type": "code",
   "execution_count": 5,
   "id": "7557841c",
   "metadata": {},
   "outputs": [
    {
     "data": {
      "text/plain": [
       "AIMessage(content=\"Your name is Avinash, and you're an upcoming software engineer.\", additional_kwargs={}, response_metadata={'token_usage': {'completion_tokens': 16, 'prompt_tokens': 142, 'total_tokens': 158, 'completion_time': 0.058181818, 'prompt_time': 0.185934214, 'queue_time': 0.050320066000000024, 'total_time': 0.244116032}, 'model_name': 'llama-3.3-70b-versatile', 'system_fingerprint': 'fp_2ddfbb0da0', 'finish_reason': 'stop', 'logprobs': None}, id='run--80f54c2a-6463-4649-bae6-650bc25b2151-0', usage_metadata={'input_tokens': 142, 'output_tokens': 16, 'total_tokens': 158})"
      ]
     },
     "execution_count": 5,
     "metadata": {},
     "output_type": "execute_result"
    }
   ],
   "source": [
    "from langchain_core.messages import AIMessage\n",
    "model.invoke([\n",
    "    HumanMessage(content=\"Hi, I am Avinash and i am a upcoming software engineer\"),\n",
    "    AIMessage(content=\"Hello Avinash, it's nice to meet you. Congratulations on pursuing a career in software engineering. That's an exciting and in-demand field. What areas of software engineering interest you the most? Are you focusing on any specific programming languages, technologies, or industries? I'm here to help and chat about any topics related to software engineering.\"),\n",
    "    HumanMessage(\"Hey! Tell me what's my name and what do i do?\")\n",
    "])"
   ]
  },
  {
   "cell_type": "markdown",
   "id": "327c6955",
   "metadata": {},
   "source": [
    "### Message History\n",
    "We can use message history class to wrap out model and make it stateful. This will keep track of input and output of model, and store them in a datastore"
   ]
  },
  {
   "cell_type": "code",
   "execution_count": 6,
   "id": "f4e1bb56",
   "metadata": {},
   "outputs": [],
   "source": [
    "from langchain_community.chat_message_histories import ChatMessageHistory\n",
    "from langchain_core.chat_history import BaseChatMessageHistory\n",
    "from langchain_core.runnables.history import RunnableWithMessageHistory\n",
    "\n",
    "store = {}\n",
    "\n",
    "def get_session_history(session_id:str)->BaseChatMessageHistory:\n",
    "    if session_id not in store:\n",
    "        store[session_id] = ChatMessageHistory()\n",
    "\n",
    "    return store[session_id]\n",
    "\n",
    "with_message_history = RunnableWithMessageHistory(model,get_session_history)"
   ]
  },
  {
   "cell_type": "code",
   "execution_count": 7,
   "id": "a5e9e425",
   "metadata": {},
   "outputs": [],
   "source": [
    "config = { \"configurable\":{\"session_id\":\"chat1\"}}"
   ]
  },
  {
   "cell_type": "code",
   "execution_count": 8,
   "id": "7d43392e",
   "metadata": {},
   "outputs": [
    {
     "data": {
      "text/plain": [
       "\"Hello Avinash, nice to meet you. As a full stack web developer, you already have a strong foundation in programming and web development. Learning generative AI can be a fascinating and rewarding experience, and it's great that you're interested in exploring this field.\\n\\nGenerative AI is a subfield of artificial intelligence that focuses on generating new, synthetic data that resembles existing data. This can include images, videos, music, text, and more. Some popular applications of generative AI include:\\n\\n1. Image generation: Generating realistic images of faces, objects, and scenes.\\n2. Text generation: Generating human-like text, such as articles, stories, and dialogue.\\n3. Music generation: Generating music that sounds like it was composed by a human.\\n4. Style transfer: Transferring the style of one image to another.\\n\\nTo get started with generative AI, you'll need to learn about some key concepts, including:\\n\\n1. Deep learning: A type of machine learning that uses neural networks to analyze and generate data.\\n2. Neural networks: A type of computer system that is modeled after the human brain.\\n3. Generative models: Models that generate new data, such as Generative Adversarial Networks (GANs) and Variational Autoencoders (VAEs).\\n4. Python libraries: Such as TensorFlow, PyTorch, and Keras, which provide tools and frameworks for building and training generative models.\\n\\nAs a full stack web developer, you may be interested in learning about the intersection of generative AI and web development. Some potential applications include:\\n\\n1. Generating website content: Using generative AI to generate text, images, and other content for websites.\\n2. Building AI-powered web applications: Using generative AI to power web applications, such as chatbots and virtual assistants.\\n3. Creating AI-generated art: Using generative AI to create art, such as images and music, that can be displayed on websites.\\n\\nWhat specific areas of generative AI are you most interested in learning about, Avinash?\""
      ]
     },
     "execution_count": 8,
     "metadata": {},
     "output_type": "execute_result"
    }
   ],
   "source": [
    "response = with_message_history.invoke([\n",
    "    HumanMessage(content=\"Hi my name is Avinash and i am a full stack web developer trying to learn generative AI\")\n",
    "], config = config)\n",
    "\n",
    "response.content"
   ]
  },
  {
   "cell_type": "code",
   "execution_count": 9,
   "id": "dda3fa9d",
   "metadata": {},
   "outputs": [
    {
     "data": {
      "text/plain": [
       "'Your name is Avinash.'"
      ]
     },
     "execution_count": 9,
     "metadata": {},
     "output_type": "execute_result"
    }
   ],
   "source": [
    "response = with_message_history.invoke([\n",
    "    HumanMessage(\"What is my name?\"),\n",
    "    \n",
    "],config=config)\n",
    "\n",
    "response.content"
   ]
  },
  {
   "cell_type": "code",
   "execution_count": 10,
   "id": "bd9c80d3",
   "metadata": {},
   "outputs": [
    {
     "data": {
      "text/plain": [
       "\"I don't know your name. I'm a large language model, I don't have the ability to know or recall personal information about individuals, including their names. Each time you interact with me, it's a new conversation and I don't retain any information from previous conversations. If you'd like to share your name with me, I'd be happy to address you by it, though!\""
      ]
     },
     "execution_count": 10,
     "metadata": {},
     "output_type": "execute_result"
    }
   ],
   "source": [
    "# Let's change the config --> change in session_id\n",
    "config1 = { \"configurable\":{\"session_id\":\"chat2\"}}\n",
    "\n",
    "response = with_message_history.invoke([\n",
    "    HumanMessage(\"What is my name?\"),\n",
    "    \n",
    "],config=config1)\n",
    "\n",
    "response.content"
   ]
  },
  {
   "cell_type": "code",
   "execution_count": 11,
   "id": "ddc47cdd",
   "metadata": {},
   "outputs": [],
   "source": [
    "# Prompt templates\n",
    "from langchain_core.prompts import ChatPromptTemplate,MessagesPlaceholder\n",
    "\n",
    "prompt = ChatPromptTemplate.from_messages(\n",
    "    [\n",
    "        (\"system\",\"You are a helpful AI assistant whose main task is to explain the asked topic in simple words\"),\n",
    "        MessagesPlaceholder(variable_name=\"messages\")\n",
    "    ]\n",
    ")\n",
    "\n",
    "chain = prompt | model "
   ]
  },
  {
   "cell_type": "code",
   "execution_count": 12,
   "id": "ed663a55",
   "metadata": {},
   "outputs": [
    {
     "data": {
      "text/plain": [
       "AIMessage(content='**What is Database Indexing?**\\n\\nImagine you have a huge library with millions of books. Each book has a unique title, author, and publication date. When you want to find a specific book, you can either search through the entire library shelf by shelf or use a catalog that lists all the books in alphabetical order. The catalog helps you find the book quickly by providing a shortcut to its location.\\n\\nIn databases, **indexing** works similarly. It\\'s a way to speed up the process of finding and retrieving specific data by creating a shortcut, or an \"index,\" that points to the location of the data.\\n\\n**How Does Indexing Work?**\\n\\nWhen you create an index on a column in a database table, the database builds a separate data structure that contains the following:\\n\\n1. A copy of the column values\\n2. A pointer to the location of the corresponding data in the table\\n\\nWhen you query the database, the index is used to quickly locate the required data. This reduces the time it takes to retrieve the data, making your queries faster and more efficient.\\n\\n**Types of Indexes**\\n\\nThere are several types of indexes, including:\\n\\n1. **B-Tree Index**: A self-balancing search tree that keeps data sorted and allows for efficient insertion, deletion, and search operations.\\n2. **Hash Index**: A data structure that uses a hash function to map keys to locations in an array.\\n3. **Full-Text Index**: An index designed for searching text data, such as articles or documents.\\n\\n**Benefits of Indexing**\\n\\nIndexing provides several benefits, including:\\n\\n1. **Faster Query Performance**: Indexes speed up query execution by reducing the amount of data that needs to be scanned.\\n2. **Improved Data Retrieval**: Indexes enable faster retrieval of specific data, making your application more responsive.\\n3. **Reduced Disk I/O**: By minimizing the amount of data that needs to be read from disk, indexes reduce the load on your storage system.\\n\\n**When to Use Indexing**\\n\\nIndexing is useful when:\\n\\n1. You frequently query a specific column or set of columns.\\n2. You have a large dataset and need to retrieve data quickly.\\n3. You want to improve the performance of your application.\\n\\nHowever, indexing also has some drawbacks, such as:\\n\\n1. **Increased Storage Requirements**: Indexes require additional storage space to store the index data structure.\\n2. **Maintenance Overhead**: Indexes need to be updated when data is inserted, updated, or deleted, which can add overhead to your database.\\n\\nIn summary, database indexing is a technique that speeds up data retrieval by creating a shortcut to the location of the data. It\\'s a powerful tool for improving query performance, but it requires careful consideration of the benefits and drawbacks to ensure optimal results.', additional_kwargs={}, response_metadata={'token_usage': {'completion_tokens': 567, 'prompt_tokens': 58, 'total_tokens': 625, 'completion_time': 3.483716245, 'prompt_time': 0.003205698, 'queue_time': 0.055578236, 'total_time': 3.486921943}, 'model_name': 'llama-3.3-70b-versatile', 'system_fingerprint': 'fp_2ddfbb0da0', 'finish_reason': 'stop', 'logprobs': None}, id='run--ab95c591-4dc8-4ceb-971b-3c03f0e698de-0', usage_metadata={'input_tokens': 58, 'output_tokens': 567, 'total_tokens': 625})"
      ]
     },
     "execution_count": 12,
     "metadata": {},
     "output_type": "execute_result"
    }
   ],
   "source": [
    "chain.invoke({\"messages\":[HumanMessage(\"Tell me about database indexing\")]})"
   ]
  },
  {
   "cell_type": "code",
   "execution_count": 13,
   "id": "980f0363",
   "metadata": {},
   "outputs": [],
   "source": [
    "with_message_history = RunnableWithMessageHistory(chain,get_session_history)"
   ]
  },
  {
   "cell_type": "code",
   "execution_count": 14,
   "id": "e331f4ea",
   "metadata": {},
   "outputs": [],
   "source": [
    "config3 = { \"configurable\":{\"session_id\":\"chat3\"}}"
   ]
  },
  {
   "cell_type": "code",
   "execution_count": 15,
   "id": "525caf76",
   "metadata": {},
   "outputs": [
    {
     "data": {
      "text/plain": [
       "AIMessage(content=\"Hello Avinash, it's nice to meet you. Is there something you'd like to know or talk about? I'm here to help and explain things in simple words. What's on your mind?\", additional_kwargs={}, response_metadata={'token_usage': {'completion_tokens': 43, 'prompt_tokens': 60, 'total_tokens': 103, 'completion_time': 0.156363636, 'prompt_time': 0.019054428, 'queue_time': 0.055912964999999995, 'total_time': 0.175418064}, 'model_name': 'llama-3.3-70b-versatile', 'system_fingerprint': 'fp_e8c9074fa2', 'finish_reason': 'stop', 'logprobs': None}, id='run--d3411182-4726-4b07-b436-31bf6ca70bdd-0', usage_metadata={'input_tokens': 60, 'output_tokens': 43, 'total_tokens': 103})"
      ]
     },
     "execution_count": 15,
     "metadata": {},
     "output_type": "execute_result"
    }
   ],
   "source": [
    "with_message_history.invoke(\n",
    "    [\n",
    "        HumanMessage(\"Hi my name is avinash\")\n",
    "    ],\n",
    "    config=config3\n",
    ")"
   ]
  },
  {
   "cell_type": "code",
   "execution_count": 16,
   "id": "87626a79",
   "metadata": {},
   "outputs": [],
   "source": [
    "# Adding more complexity to prompt\n",
    "\n",
    "prompt = ChatPromptTemplate.from_messages(\n",
    "    [\n",
    "        (\"system\",\"You are a helpful AI assistant whose main task is to explain the asked topic in simple words. Explain the topics in {language}\"),\n",
    "        MessagesPlaceholder(variable_name=\"messages\")\n",
    "    ]\n",
    ")\n",
    "\n",
    "chain = prompt | model "
   ]
  },
  {
   "cell_type": "code",
   "execution_count": 17,
   "id": "23c9b93d",
   "metadata": {},
   "outputs": [],
   "source": [
    "res =  chain.invoke({\n",
    "    \"messages\":[HumanMessage(\"Hi my name is avinash\")],\n",
    "    \"language\":\"hindi\"\n",
    "})"
   ]
  },
  {
   "cell_type": "code",
   "execution_count": 18,
   "id": "97ce946c",
   "metadata": {},
   "outputs": [
    {
     "data": {
      "text/plain": [
       "'नमस्ते अविनाश, मैं आपका सहायक हूँ। मैं आपके प्रश्नों का उत्तर देने और आपको समझने में मदद करने के लिए यहाँ हूँ। क्या आप किसी विशेष विषय के बारे में जानना चाहते हैं या कोई प्रश्न पूछना चाहते हैं?'"
      ]
     },
     "execution_count": 18,
     "metadata": {},
     "output_type": "execute_result"
    }
   ],
   "source": [
    "res.content"
   ]
  },
  {
   "cell_type": "code",
   "execution_count": 19,
   "id": "9fa3f5c5",
   "metadata": {},
   "outputs": [],
   "source": [
    "with_message_history = RunnableWithMessageHistory(chain,get_session_history,input_messages_key=\"messages\")"
   ]
  },
  {
   "cell_type": "code",
   "execution_count": 20,
   "id": "6fa536f1",
   "metadata": {},
   "outputs": [],
   "source": [
    "config4 = {\"configurable\":{\"session_id\":\"chat4\"}}\n",
    "\n",
    "ans = with_message_history.invoke(\n",
    "    {\"messages\":[\n",
    "        HumanMessage(\"Hey I am avinash and i am a aspiring software developer\"),\n",
    "    ],\n",
    "    \"language\":\"hindi\"},\n",
    "    config=config4\n",
    ")"
   ]
  },
  {
   "cell_type": "code",
   "execution_count": 21,
   "id": "39879ad5",
   "metadata": {},
   "outputs": [
    {
     "data": {
      "text/plain": [
       "AIMessage(content='नमस्ते अविनाश, मैं आपका सहायक हूँ। मैं आपको सॉफ्टवेयर डेवलपमेंट से संबंधित जानकारी प्रदान करने में मदद करूँगा।\\n\\nसॉफ्टवेयर डेवलपमेंट एक बहुत ही रोचक और चुनौतीपूर्ण क्षेत्र है, जहाँ आप अपने विचारों और कल्पनाओं को वास्तविकता में बदल सकते हैं। यहाँ कुछ बातें हैं जो आपको सॉफ्टवेयर डेवलपमेंट की दुनिया में आगे बढ़ने में मदद कर सकती हैं:\\n\\n1. **प्रोग्रामिंग भाषाएँ**: सॉफ्टवेयर डेवलपमेंट में प्रोग्रामिंग भाषाएँ बहुत महत्वपूर्ण हैं। आप जावा, पायथन, सी++, जावास्क्रिप्ट आदि जैसी भाषाओं का अध्ययन कर सकते हैं।\\n2. **वेब डेवलपमेंट**: वेब डेवलपमेंट में आप वेबसाइट्स, वेब एप्लिकेशन्स और मोबाइल एप्लिकेशन्स बना सकते हैं। आप एचटीएमएल, सीएसएस, जावास्क्रिप्ट आदि जैसी तकनीकों का उपयोग कर सकते हैं।\\n3. **मोबाइल एप्लिकेशन डेवलपमेंट**: मोबाइल एप्लिकेशन डेवलपमेंट में आप एंड्रॉइड और आईओएस जैसे मोबाइल प्लेटफ़ॉर्म पर एप्लिकेशन्स बना सकते हैं।\\n4. **डेटाबेस**: डेटाबेस में आप डेटा को संग्रहीत और प्रबंधित कर सकते हैं। आप एमएसएसक्यूएल, मायएसक्यूएल, मोंगोडीबी आदि जैसे डेटाबेस प्रबंधन प्रणालियों का उपयोग कर सकते हैं।\\n\\nमुझे उम्मीद है कि यह जानकारी आपके लिए उपयोगी होगी। अगर आपके पास कोई प्रश्न है, तो मुझे पूछने में संकोच न करें। मैं आपकी मदद करने के लिए तैयार हूँ।', additional_kwargs={}, response_metadata={'token_usage': {'completion_tokens': 558, 'prompt_tokens': 72, 'total_tokens': 630, 'completion_time': 2.029090909, 'prompt_time': 0.004913836, 'queue_time': 0.049546634, 'total_time': 2.034004745}, 'model_name': 'llama-3.3-70b-versatile', 'system_fingerprint': 'fp_3f3b593e33', 'finish_reason': 'stop', 'logprobs': None}, id='run--c213f6ca-2632-4d0f-94cf-55d0f896123c-0', usage_metadata={'input_tokens': 72, 'output_tokens': 558, 'total_tokens': 630})"
      ]
     },
     "execution_count": 21,
     "metadata": {},
     "output_type": "execute_result"
    }
   ],
   "source": [
    "ans"
   ]
  },
  {
   "cell_type": "code",
   "execution_count": 22,
   "id": "79af3028",
   "metadata": {},
   "outputs": [],
   "source": [
    "ans = with_message_history.invoke(\n",
    "    {\"messages\":[\n",
    "        HumanMessage(\"What do you know about me?\"),\n",
    "    ],\n",
    "    \"language\":\"english\"},\n",
    "    config=config4\n",
    ")"
   ]
  },
  {
   "cell_type": "code",
   "execution_count": 23,
   "id": "3d075df6",
   "metadata": {},
   "outputs": [
    {
     "data": {
      "text/plain": [
       "'अविनाश, मैं आपके बारे में निम्नलिखित जानकारी जानता हूँ:\\n\\n1. **नाम**: आपका नाम अविनाश है।\\n2. **हित**: आप सॉफ्टवेयर डेवलपमेंट में रुचि रखते हैं और एक अस्पायरिंग सॉफ्टवेयर डेवलपर हैं।\\n3. **भाषा**: आप अंग्रेजी भाषा समझते हैं और मुझसे बात करने के लिए इसका उपयोग करते हैं।\\n4. **संचार**: आप मुझसे बात करने के लिए इस प्लेटफ़ॉर्म का उपयोग कर रहे हैं।\\n\\nयह जानकारी मुझे आपके द्वारा दी गई है, और मैं इसका उपयोग आपको बेहतर ढंग से समझने और आपकी मदद करने के लिए करता हूँ। अगर आपके पास कोई और जानकारी है जो आप मुझे देना चाहते हैं, तो मुझे बताएं!'"
      ]
     },
     "execution_count": 23,
     "metadata": {},
     "output_type": "execute_result"
    }
   ],
   "source": [
    "ans.content"
   ]
  },
  {
   "cell_type": "markdown",
   "id": "2e080bad",
   "metadata": {},
   "source": [
    "### Managing the conversation history\n",
    "The list of messages can grow unbounded and can potentially overflow the llm context window, thats why it is needed to be managed.\n",
    "An extra step is needed that limits the size of message we are passing in"
   ]
  },
  {
   "cell_type": "code",
   "execution_count": 31,
   "id": "ac6e12d1",
   "metadata": {},
   "outputs": [],
   "source": [
    "from langchain_core.messages import SystemMessage,trim_messages\n",
    "\n",
    "trimmer = trim_messages(\n",
    "    max_tokens=60,\n",
    "    strategy = \"last\",\n",
    "    token_counter=model,\n",
    "    include_system = True,\n",
    "    allow_partial = False,\n",
    "    start_on=\"human\"\n",
    ")"
   ]
  },
  {
   "cell_type": "code",
   "execution_count": 29,
   "id": "a214be43",
   "metadata": {},
   "outputs": [],
   "source": [
    "messages = [\n",
    "    SystemMessage(\"You're a helpful AI assistant\"),\n",
    "    HumanMessage(\"Hi my name is avinash\"),\n",
    "    AIMessage(\"nice to meet you avinash, how can i help you\"),\n",
    "    HumanMessage(\"I like vannila icecream\"),\n",
    "    AIMessage(\"nice i like it too\"),\n",
    "    HumanMessage(\"What is 2+2?\"),\n",
    "    AIMessage(\"4\")\n",
    "]"
   ]
  },
  {
   "cell_type": "code",
   "execution_count": 32,
   "id": "b654af99",
   "metadata": {},
   "outputs": [
    {
     "data": {
      "text/plain": [
       "[SystemMessage(content=\"You're a helpful AI assistant\", additional_kwargs={}, response_metadata={}),\n",
       " HumanMessage(content='Hi my name is avinash', additional_kwargs={}, response_metadata={}),\n",
       " AIMessage(content='nice to meet you avinash, how can i help you', additional_kwargs={}, response_metadata={}),\n",
       " HumanMessage(content='I like vannila icecream', additional_kwargs={}, response_metadata={}),\n",
       " AIMessage(content='nice i like it too', additional_kwargs={}, response_metadata={}),\n",
       " HumanMessage(content='What is 2+2?', additional_kwargs={}, response_metadata={}),\n",
       " AIMessage(content='4', additional_kwargs={}, response_metadata={})]"
      ]
     },
     "execution_count": 32,
     "metadata": {},
     "output_type": "execute_result"
    }
   ],
   "source": [
    "trimmer.invoke(messages)"
   ]
  },
  {
   "cell_type": "code",
   "execution_count": 33,
   "id": "974dc907",
   "metadata": {},
   "outputs": [],
   "source": [
    "from operator import itemgetter\n",
    "from langchain_core.runnables import RunnablePassthrough\n",
    "\n",
    "chain = (\n",
    "    RunnablePassthrough.assign(messages = itemgetter(\"messages\") | trimmer) |\n",
    "    prompt |\n",
    "    model\n",
    ")"
   ]
  },
  {
   "cell_type": "code",
   "execution_count": 34,
   "id": "e235c6b0",
   "metadata": {},
   "outputs": [
    {
     "data": {
      "text/plain": [
       "'You like vanilla icecream.'"
      ]
     },
     "execution_count": 34,
     "metadata": {},
     "output_type": "execute_result"
    }
   ],
   "source": [
    "response = chain.invoke({\n",
    "    \"messages\" : messages + [HumanMessage(\"What icecream do i like?\")],\n",
    "    \"language\":\"English\"\n",
    "})\n",
    "\n",
    "response.content"
   ]
  },
  {
   "cell_type": "code",
   "execution_count": null,
   "id": "a2f8f155",
   "metadata": {},
   "outputs": [],
   "source": []
  }
 ],
 "metadata": {
  "kernelspec": {
   "display_name": "Python 3",
   "language": "python",
   "name": "python3"
  },
  "language_info": {
   "codemirror_mode": {
    "name": "ipython",
    "version": 3
   },
   "file_extension": ".py",
   "mimetype": "text/x-python",
   "name": "python",
   "nbconvert_exporter": "python",
   "pygments_lexer": "ipython3",
   "version": "3.10.0"
  }
 },
 "nbformat": 4,
 "nbformat_minor": 5
}
